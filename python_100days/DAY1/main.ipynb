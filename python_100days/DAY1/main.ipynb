{
 "cells": [
  {
   "cell_type": "markdown",
   "metadata": {},
   "source": [
    "### Print statement"
   ]
  },
  {
   "cell_type": "code",
   "execution_count": 6,
   "metadata": {},
   "outputs": [
    {
     "name": "stdout",
     "output_type": "stream",
     "text": [
      "Hello world, hi from 'Dimple'. Nice to meet you.\n",
      "Hello world, hi from \"Dimple\". Nice to meet you.\n"
     ]
    }
   ],
   "source": [
    "print (\"Hello world, hi from 'Dimple'. Nice to meet you.\")\n",
    "print (\"Hello world, hi from \\\"Dimple\\\". Nice to meet you.\")"
   ]
  },
  {
   "cell_type": "markdown",
   "metadata": {},
   "source": [
    "### Input and print "
   ]
  },
  {
   "cell_type": "code",
   "execution_count": 7,
   "metadata": {},
   "outputs": [
    {
     "name": "stdout",
     "output_type": "stream",
     "text": [
      "Hi, dimple bhuta\n",
      "12\n"
     ]
    }
   ],
   "source": [
    "name = input(\"What is your name?\")\n",
    "\n",
    "print (f\"Hi, {name}\")\n",
    "\n",
    "print (len(name))"
   ]
  },
  {
   "cell_type": "markdown",
   "metadata": {},
   "source": [
    "### Switch inputs\n",
    "This program takes two inputs. The first input is stored in a variable called a. The second input is stored in a variable called b.\n",
    "\n",
    "Write a program that switches the values stored in the variables a and b.\n",
    "\n",
    "Warning . You don't need to print anything. The print statement is already in the template code. However, your program should work for different inputs. e.g. any value of a and b."
   ]
  },
  {
   "cell_type": "code",
   "execution_count": 8,
   "metadata": {},
   "outputs": [
    {
     "name": "stdout",
     "output_type": "stream",
     "text": [
      "a: bhuta\n",
      "b: dimple\n"
     ]
    }
   ],
   "source": [
    "# There are two variables, a and b from input\n",
    "a = input()\n",
    "b = input()\n",
    "\n",
    "# Write your code below this line 👇\n",
    "c = b\n",
    "b = a \n",
    "a = c\n",
    "\n",
    "# 🚨 Don't change the code below 👇\n",
    "print(\"a: \" + a)\n",
    "print(\"b: \" + b)"
   ]
  },
  {
   "cell_type": "markdown",
   "metadata": {},
   "source": [
    "### Final project"
   ]
  },
  {
   "cell_type": "code",
   "execution_count": 9,
   "metadata": {},
   "outputs": [
    {
     "name": "stdout",
     "output_type": "stream",
     "text": [
      "Welcome to the Band Name Generator.\n",
      "Your band name could be sanjoli dog\n"
     ]
    }
   ],
   "source": [
    "print(\"Welcome to the Band Name Generator.\")\n",
    "street = input(\"What's the name of the city you grew up in?\\n\")\n",
    "pet = input(\"What's your pet's name?\\n\")\n",
    "print(\"Your band name could be \" + street + \" \" + pet)"
   ]
  }
 ],
 "metadata": {
  "kernelspec": {
   "display_name": "Python 3",
   "language": "python",
   "name": "python3"
  },
  "language_info": {
   "codemirror_mode": {
    "name": "ipython",
    "version": 3
   },
   "file_extension": ".py",
   "mimetype": "text/x-python",
   "name": "python",
   "nbconvert_exporter": "python",
   "pygments_lexer": "ipython3",
   "version": "3.10.12"
  }
 },
 "nbformat": 4,
 "nbformat_minor": 2
}
