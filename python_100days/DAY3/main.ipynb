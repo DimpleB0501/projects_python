{
 "cells": [
  {
   "cell_type": "markdown",
   "metadata": {},
   "source": [
    "### Even and odd number"
   ]
  },
  {
   "cell_type": "code",
   "execution_count": 1,
   "metadata": {},
   "outputs": [
    {
     "name": "stdout",
     "output_type": "stream",
     "text": [
      "This is an odd number.\n"
     ]
    }
   ],
   "source": [
    "num = 43\n",
    "\n",
    "if (num % 2 == 0):\n",
    "    print (\"This is an even number.\")\n",
    "else:\n",
    "    print (\"This is an odd number.\")"
   ]
  },
  {
   "cell_type": "markdown",
   "metadata": {},
   "source": [
    "### Nested if and else statement"
   ]
  },
  {
   "cell_type": "markdown",
   "metadata": {},
   "source": [
    "##### BMI calculator\n",
    "Write a program that interprets the Body Mass Index (BMI) based on a user's weight and height.\n",
    "\n",
    "It should tell them the interpretation of their BMI based on the BMI value.\n",
    "\n",
    "Under 18.5 they are underweight\n",
    "\n",
    "Equal to or over 18.5 but below 25 they have a normal weight\n",
    "\n",
    "Equal to or over 25 but below 30 they are slightly overweight\n",
    "\n",
    "Equal to or over 30 but below 35 they are obese\n",
    "\n",
    "Equal to or over 35 they are clinically obese."
   ]
  },
  {
   "cell_type": "code",
   "execution_count": null,
   "metadata": {},
   "outputs": [],
   "source": [
    "height = 1.50\n",
    "weight = 63\n",
    "\n",
    "BMI = weight / (height ** 2)\n",
    "\n",
    "\n",
    "if BMI < 18.5:\n",
    "    print (f\"Your BMI is {BMI}, you are underweight.\")\n",
    "elif BMI >= 18.5 and BMI < 25:\n",
    "    print (f\"Your BMI is {BMI}, you have a normal weight.\")\n",
    "elif BMI >= 25 and BMI < 30:\n",
    "    print (f\"Your BMI is {BMI}, you are slightly overweight.\")\n",
    "elif BMI >= 30 and BMI < 35:\n",
    "    print (f\"Your BMI is {BMI}, you are obese.\")\n",
    "elif BMI >= 35:\n",
    "    print (f\"Your BMI is {BMI}, you are clinically obese.\")"
   ]
  },
  {
   "cell_type": "markdown",
   "metadata": {},
   "source": [
    "### Leap year\n",
    "Write a program that works out whether if a given year is a leap year. A normal year has 365 days, leap years have 366, with an extra day in February.\n",
    "This is how you work out whether if a particular year is a leap year.\n",
    "\n",
    "on every year that is divisible by 4 with no remainder\n",
    "\n",
    "except every year that is evenly divisible by 100 with no remainder\n",
    "\n",
    "unless the year is also divisible by 400 with no remainder"
   ]
  },
  {
   "cell_type": "code",
   "execution_count": 11,
   "metadata": {},
   "outputs": [
    {
     "name": "stdout",
     "output_type": "stream",
     "text": [
      "Leap year\n"
     ]
    }
   ],
   "source": [
    "year = 2020\n",
    "\n",
    "# divided by 100 means century year (ending with 00)\n",
    "# century year divided by 400 is leap year\n",
    "if (year % 400 == 0) and (year % 100 == 0):\n",
    "    print (\"Leap year\")\n",
    "# not divided by 100 means not a century year\n",
    "# year divided by 4 is a leap year\n",
    "elif (year % 4 == 0) and (year % 100 != 0):\n",
    "    print (\"Leap year\")\n",
    "# if not divided by both 400 (century year) and 4 (not century year)\n",
    "# year is not leap year        \n",
    "else:\n",
    "    print (\"Not leap year\")"
   ]
  },
  {
   "cell_type": "markdown",
   "metadata": {},
   "source": [
    "### Pizza Order\n",
    "\n",
    "Congratulations, you've got a job at Python Pizza! Your first job is to build an automatic pizza order program.\n",
    "\n",
    "Based on a user's order, work out their final bill.\n",
    "\n",
    "Small pizza (S): $15\n",
    "\n",
    "Medium pizza (M): $20\n",
    "\n",
    "Large pizza (L): $25\n",
    "\n",
    "Add pepperoni for small pizza (Y or N): +$2\n",
    "\n",
    "Add pepperoni for medium or large pizza (Y or N): +$3\n",
    "\n",
    "Add extra cheese for any size pizza (Y or N): +$1"
   ]
  },
  {
   "cell_type": "code",
   "execution_count": 15,
   "metadata": {},
   "outputs": [
    {
     "name": "stdout",
     "output_type": "stream",
     "text": [
      "Thank you for choosing Python Pizza Deliveries! Your final bill is: $25.\n"
     ]
    }
   ],
   "source": [
    "size = 'L'\n",
    "add_pepperoni = 'N'\n",
    "extra_cheese = 'N'\n",
    "\n",
    "bill = 0\n",
    "\n",
    "if size == 'L':\n",
    "    bill = 25\n",
    "    if add_pepperoni == 'Y':\n",
    "        bill = bill + 3\n",
    "elif size == 'M':\n",
    "    bill = 20\n",
    "    if add_pepperoni == 'Y':\n",
    "        bill = bill + 3\n",
    "\n",
    "elif size == 'S':\n",
    "    bill = 15\n",
    "    if add_pepperoni == 'Y':\n",
    "        bill = bill + 2\n",
    "if extra_cheese == 'Y':\n",
    "    bill = bill + 1\n",
    "\n",
    "\n",
    "print (f\"Thank you for choosing Python Pizza Deliveries! Your final bill is: ${bill}.\")"
   ]
  },
  {
   "cell_type": "markdown",
   "metadata": {},
   "source": [
    "### Love calculator\n",
    "\n",
    "You are going to write a program that tests the compatibility between two people.\n",
    "\n",
    "To work out the love score between two people:\n",
    "\n",
    "Take both people's names and check for the number of times the letters in the word TRUE occurs.\n",
    "\n",
    "Then check for the number of times the letters in the word LOVE occurs.\n",
    "\n",
    "Then combine these numbers to make a 2 digit number.\n",
    "\n",
    "For Love Scores less than 10 or greater than 90, the message should be:\n",
    "\n",
    "\"Your score is *x*, you go together like coke and mentos.\"\n",
    "For Love Scores between 40 and 50, the message should be:\n",
    "\n",
    "\"Your score is *y*, you are alright together.\"\n",
    "Otherwise, the message will just be their score. e.g.:\n",
    "\n",
    "\"Your score is *z*.\"\n",
    "e.g.\n",
    "\n",
    "name1 = \"Angela Yu\"\n",
    "name2 = \"Jack Bauer\"\n",
    "T occurs 0 times\n",
    "\n",
    "R occurs 1 time\n",
    "\n",
    "U occurs 2 times\n",
    "\n",
    "E occurs 2 times\n",
    "\n",
    "Total = 5\n",
    "\n",
    "L occurs 1 time\n",
    "\n",
    "O occurs 0 times\n",
    "\n",
    "V occurs 0 times\n",
    "\n",
    "E occurs 2 times\n",
    "\n",
    "Total = 3\n",
    "\n",
    "Love Score = 53\n",
    "\n",
    "Print: \"Your score is 53.\""
   ]
  },
  {
   "cell_type": "code",
   "execution_count": 27,
   "metadata": {},
   "outputs": [
    {
     "name": "stdout",
     "output_type": "stream",
     "text": [
      "Your score is 42, you are alright together.\n"
     ]
    }
   ],
   "source": [
    "name1 = \"Kanye West\"\n",
    "name2 = \"Kim Kardashian\"\n",
    "\n",
    "name1 = name1.lower()\n",
    "name2 = name2.lower()\n",
    "\n",
    "#print (name1, \" \", name2)\n",
    "\n",
    "total1 = 0\n",
    "total2 = 0\n",
    "\n",
    "total1 = name1.count(\"t\") + name1.count(\"r\") + name1.count(\"u\") + name1.count(\"e\") + name2.count(\"t\") + name2.count(\"r\") + name2.count(\"u\") + name2.count(\"e\")\n",
    "total2 = name1.count(\"l\") + name1.count(\"o\") + name1.count(\"v\") + name1.count(\"e\") + name2.count(\"l\") + name2.count(\"o\") + name2.count(\"v\") + name2.count(\"e\")\n",
    "\n",
    "score = total1 * 10 + total2\n",
    "\n",
    "if score < 10 or score > 90:\n",
    "    print (f\"Your score is {score}, you go together like coke and mentos.\")\n",
    "elif score >= 40 and score <= 50:\n",
    "    print (f\"Your score is {score}, you are alright together.\")\n",
    "else:\n",
    "    print (f\"Your score is {score}.\")"
   ]
  },
  {
   "cell_type": "markdown",
   "metadata": {},
   "source": [
    "### Challenge \n",
    "Treasure island"
   ]
  },
  {
   "cell_type": "code",
   "execution_count": 28,
   "metadata": {},
   "outputs": [
    {
     "name": "stdout",
     "output_type": "stream",
     "text": [
      "\n",
      "*******************************************************************************\n",
      "          |                   |                  |                     |\n",
      " _________|________________.=\"\"_;=.______________|_____________________|_______\n",
      "|                   |  ,-\"_,=\"\"     `\"=.|                  |\n",
      "|___________________|__\"=._o`\"-._        `\"=.______________|___________________\n",
      "          |                `\"=._o`\"=._      _`\"=._                     |\n",
      " _________|_____________________:=._o \"=._.\"_.-=\"'\"=.__________________|_______\n",
      "|                   |    __.--\" , ; `\"=._o.\" ,-\"\"\"-._ \".   |\n",
      "|___________________|_._\"  ,. .` ` `` ,  `\"-._\"-._   \". '__|___________________\n",
      "          |           |o`\"=._` , \"` `; .\". ,  \"-._\"-._; ;              |\n",
      " _________|___________| ;`-.o`\"=._; .\" ` '`.\"\\` . \"-._ /_______________|_______\n",
      "|                   | |o;    `\"-.o`\"=._``  '` \" ,__.--o;   |\n",
      "|___________________|_| ;     (#) `-.o `\"=.`_.--\"_o.-; ;___|___________________\n",
      "____/______/______/___|o;._    \"      `\".o|o_.--\"    ;o;____/______/______/____\n",
      "/______/______/______/_\"=._o--._        ; | ;        ; ;/______/______/______/_\n",
      "____/______/______/______/__\"=._o--._   ;o|o;     _._;o;____/______/______/____\n",
      "/______/______/______/______/____\"=._o._; | ;_.--\"o.--\"_/______/______/______/_\n",
      "____/______/______/______/______/_____\"=.o|o_.--\"\"___/______/______/______/____\n",
      "/______/______/______/______/______/______/______/______/______/______/_____ /\n",
      "*******************************************************************************\n",
      "\n",
      "Welcome to Treasure Island.\n",
      "Your mission is to find the treasure.\n",
      "You fell into a hole. Game Over.\n"
     ]
    }
   ],
   "source": [
    "print('''\n",
    "*******************************************************************************\n",
    "          |                   |                  |                     |\n",
    " _________|________________.=\"\"_;=.______________|_____________________|_______\n",
    "|                   |  ,-\"_,=\"\"     `\"=.|                  |\n",
    "|___________________|__\"=._o`\"-._        `\"=.______________|___________________\n",
    "          |                `\"=._o`\"=._      _`\"=._                     |\n",
    " _________|_____________________:=._o \"=._.\"_.-=\"'\"=.__________________|_______\n",
    "|                   |    __.--\" , ; `\"=._o.\" ,-\"\"\"-._ \".   |\n",
    "|___________________|_._\"  ,. .` ` `` ,  `\"-._\"-._   \". '__|___________________\n",
    "          |           |o`\"=._` , \"` `; .\". ,  \"-._\"-._; ;              |\n",
    " _________|___________| ;`-.o`\"=._; .\" ` '`.\"\\` . \"-._ /_______________|_______\n",
    "|                   | |o;    `\"-.o`\"=._``  '` \" ,__.--o;   |\n",
    "|___________________|_| ;     (#) `-.o `\"=.`_.--\"_o.-; ;___|___________________\n",
    "____/______/______/___|o;._    \"      `\".o|o_.--\"    ;o;____/______/______/____\n",
    "/______/______/______/_\"=._o--._        ; | ;        ; ;/______/______/______/_\n",
    "____/______/______/______/__\"=._o--._   ;o|o;     _._;o;____/______/______/____\n",
    "/______/______/______/______/____\"=._o._; | ;_.--\"o.--\"_/______/______/______/_\n",
    "____/______/______/______/______/_____\"=.o|o_.--\"\"___/______/______/______/____\n",
    "/______/______/______/______/______/______/______/______/______/______/_____ /\n",
    "*******************************************************************************\n",
    "''')\n",
    "print(\"Welcome to Treasure Island.\")\n",
    "print(\"Your mission is to find the treasure.\")\n",
    "\n",
    "#Write your code below this line 👇\n",
    "\n",
    "choice1 = input('You\\'re at a cross road. Where do you want to go? Type \"left\" or \"right\" \\n').lower()\n",
    "if choice1 == \"left\":\n",
    "  choice2 = input('You\\'ve come to a lake. There is an island in the middle of the lake. Type \"wait\" to wait for a boat. Type \"swim\" to swim across. \\n').lower()\n",
    "  if choice2 == \"wait\":\n",
    "    choice3 = input(\"You arrive at the island unharmed. There is a house with 3 doors. One red, one yellow and one blue. Which colour do you choose? \\n\").lower()\n",
    "    if choice3 == \"red\":\n",
    "      print(\"It's a room full of fire. Game Over.\")\n",
    "    elif choice3 == \"yellow\":\n",
    "      print(\"You found the treasure! You Win!\")\n",
    "    elif choice3 == \"blue\":\n",
    "      print(\"You enter a room of beasts. Game Over.\")\n",
    "    else:\n",
    "      print(\"You chose a door that doesn't exist. Game Over.\")\n",
    "  else:\n",
    "    print(\"You get attacked by an angry trout. Game Over.\")\n",
    "else:\n",
    "  print(\"You fell into a hole. Game Over.\")"
   ]
  }
 ],
 "metadata": {
  "kernelspec": {
   "display_name": "Python 3",
   "language": "python",
   "name": "python3"
  },
  "language_info": {
   "codemirror_mode": {
    "name": "ipython",
    "version": 3
   },
   "file_extension": ".py",
   "mimetype": "text/x-python",
   "name": "python",
   "nbconvert_exporter": "python",
   "pygments_lexer": "ipython3",
   "version": "3.10.12"
  }
 },
 "nbformat": 4,
 "nbformat_minor": 2
}
